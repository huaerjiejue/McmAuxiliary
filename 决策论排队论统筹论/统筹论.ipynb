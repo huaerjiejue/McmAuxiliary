{
 "cells": [
  {
   "cell_type": "markdown",
   "metadata": {},
   "source": [
    "@Copyright MCM2019 61-朱文杰"
   ]
  },
  {
   "cell_type": "markdown",
   "metadata": {},
   "source": [
    "# 1956年 CPM 关键路线法 (已实现）\n",
    "关键路线法是一种网络图方法，由雷明顿-兰德公司(Remington- Rand)的JE克里(JE Kelly)和杜邦公司的MR沃尔克(MR Walker)在1957年提出的，用于对化工工厂的维护项目进行日程安排。  \n",
    "它适用于有很多作业而且必须按时完成的项目。关键路线法是一个动态系统，它会随着项目的进展不断更新，该方法采用单一时间估计法，其中时间被视为一定的或确定的。\n",
    "## 拓展：基于相对最后期限限制下的并行任务调度\n",
    "\n",
    "# 1997年 CCPM 关键链项目管理技术（已实现，TOC）\n",
    "CCPM（Critical Chain Project Management）关键链项目管理：是由高德拉特博士创始，注重项目执行中所需资源的计划与管理方法。这是30年来对全球项目管理领域作出的最重要的贡献。  \n",
    "传统的关键路径（Critical Path） 和PERT程序评估检查技术(program evaluation review technique)则强调项目任务的顺序并严格遵循进程安排的执行，与之形成了鲜明的对比。关键链项目管理（CCPM）系统倾向于保持资源更均衡的分布，但要求各项资源的启动时间保持灵活，并在任务和任务链之间能灵活转换，以保证整个项目按期进行。\n",
    "\n",
    "# 1958年 PERT  计划评审技术（已实现）\n",
    "PERT是利用网络分析制定计划以及对计划予以评价的技术。它能协调整个计划的各道工序，合理安排人力、物力、时间、资金，加速计划的完成。在现代计划的编制和分析手段上，PERT被广泛的使用，是现代化管理的重要手段和方法。  \n",
    "PERT网络是一种类似流程图的箭线图。它描绘出项目包含的各种活动的先后次序，标明每项活动的时间或相关的成本。对于PERT网络，项目管理者必须考虑要做哪些工作，确定时间之间的依赖关系，辨认出潜在的可能出问题的环节，借助PERT还可以方便地比较不同行动方案在进度和成本方面的效果。  \n",
    "# 1966年 GERT  图形评审技术(简介)\n",
    "图形评审技术GERT  \n",
    "(Graphic Evaluation and Review Technique)  \n",
    "此方法是在PERT（计划评审技术）的基础上，增加决策节点，不仅将活动的各参数如时间和费用设为随机性分布，而且其各个活动及相互之间的影响关系也具有随机性，即活动按一定概率可能发生或不发生，相应地反应在活动开始或结束的节点或枝线也可能发生或不发生。在网络的表现形式上，增加了决策节点，并且节点之间具有回路和自环存在。  \n",
    "该方法通过解析方法及蒙特卡罗模拟方法，最终求出项目成本和工期的概率分布曲线。\n",
    "\n",
    "# 1972年 VERT  风险评审技术（请自行在GERT基础上拓展）\n",
    "VERT是适应某些高度不确定性和风险性的决策问题而开发的一种网络仿真系统。  \n",
    "在80年代初期，VERT首先在美国大型系统研制计划和评估中得到应用。VERT在本质上仍属于随机网络仿真技术，按照工程项目和研制项目的实施过程，建立对应的随机网络模型。根据每项活动或任务的性质，在网络节点上设置多种输入和输出逻辑功能，使网络模型能够充分反映实际过程的逻辑关系和随机约束。同时，VERT还在每项活动上提供多种赋值功能，建模人员可对每项活动赋给时间周期、费用和性能指标，并且能够同时对这三项指标进行仿真运行。因此，VERT仿真可以给出在不同性能指标下，相应时间周期和费用的概率分布、项目在技术上获得成功或失败的概率等等。这种将时间、费用、性能（简称T、C、P）联系起来进行综合性仿真，为多目标决策提供了强有力的工具。\n",
    "\n",
    "# 1978年 Q－GERT 排队图解评审技术（请自行在GERT基础上拓展）\n",
    "排队图解协调技术是一种应用随机网络模型对复杂的排队系统或项目管理系统实现最优控制和评价的计划管理方法。  \n",
    "排队图解协调技术是70年代后期在图解协调技术的仿真系统 GERTS和通用仿真系统GPSS的基础上结合排队理论而研究成功的。它在解决排队系统有关问题上具有特殊的功能。Q-GERT网络模型是由排队节点、起始节点和结束节点及其相应的有向支路等基本元素构成的。采用排队论的术语,将要求服务的对象称为“顾客”,服务机构称为“服务台”。"
   ]
  },
  {
   "cell_type": "markdown",
   "metadata": {},
   "source": [
    "# 1.基础统筹论"
   ]
  },
  {
   "cell_type": "markdown",
   "metadata": {},
   "source": [
    "### 1.1CPM 关键路线法 \n",
    "此处使用了基本的图论寻找有向无环图的最长路径  \n",
    "1.拓扑排序  \n",
    "2.松弛  \n",
    "3.获取最长路径  "
   ]
  },
  {
   "cell_type": "code",
   "execution_count": 1,
   "metadata": {},
   "outputs": [],
   "source": [
    "class Edge(object):\n",
    "    def __init__(self,src,tar,weight):\n",
    "        self.src=src\n",
    "        self.tar=tar\n",
    "        self.weight=weight"
   ]
  },
  {
   "cell_type": "code",
   "execution_count": 2,
   "metadata": {},
   "outputs": [],
   "source": [
    "class Graph(object):\n",
    "    \"\"\"有向无环图\"\"\"\n",
    "    def __init__(self,ids):\n",
    "        self.nodes={id: Node(id) for id in ids}\n",
    "    def build(self,edges):\n",
    "        self.edges=edges\n",
    "        \"\"\"edges是srcid-tarid-weight三元组组成的列表 \"\"\"\n",
    "        for src,tar,weight in edges:\n",
    "            self.nodes[src].build(self.nodes[tar],weight)\n",
    "    def __str__(self):\n",
    "        st='All edges in this graph are:\\n'\n",
    "        for src,tar,weight in edges:\n",
    "            st+= src +' -> '+ tar+  ' : '+str(weight) + '\\n'\n",
    "        return st\n",
    "    def __getitem__(self,index):\n",
    "        return self.nodes[index]\n",
    "    @property\n",
    "    def V(self):\n",
    "        return self.nodes\n",
    "    @property\n",
    "    def E(self):\n",
    "        return self.edges"
   ]
  },
  {
   "cell_type": "code",
   "execution_count": 3,
   "metadata": {},
   "outputs": [],
   "source": [
    "class Node(object):\n",
    "    def __init__(self,id):\n",
    "        self.id=id\n",
    "        self.edges=[]\n",
    "    def build(self,nb,weight):\n",
    "        self.edges.append(Edge(self,nb,weight))\n",
    "    def __str__(self):\n",
    "        st='All edges from Node '+self.id +' are:\\n'\n",
    "        for edge in self.edges:\n",
    "            st+= edge.src.id +' -> '+ edge.tar.id+  ' : '+str(edge.weight) + '\\n'\n",
    "        return st"
   ]
  },
  {
   "cell_type": "markdown",
   "metadata": {},
   "source": [
    "个人建议在实节点之外附带一个虚节点，实虚节点之间距离为耗时，  \n",
    "实节点负责接收状态转移，实虚节点之间进行时间计算，虚节点负责输出状态转移，其权重为0。这样的话可以有效减少边长的重复(并不，0还是要写的）"
   ]
  },
  {
   "cell_type": "code",
   "execution_count": 4,
   "metadata": {},
   "outputs": [],
   "source": [
    "ids=[str(k) for k in range(0,10)]\n",
    "ids.append('beg')\n",
    "ids.append('end')\n",
    "cpmdata={('beg','0'):0,('beg','5'):0,\n",
    "         ('0','1'):41,('0','7'):41,('0','9'):41,\n",
    "         ('1','2'):51,('2','end'):50,('3','end'):36,\n",
    "         ('4','end'):38,('5','end'):45,\n",
    "         ('6','3'):21,('6','8'):21,\n",
    "         ('7','3'):32,('7','8'):32,('8','2'):32,\n",
    "         ('9','4'):29,('9','6'):29}\n",
    "edges=[(*k,cpmdata[k]) for k in cpmdata]\n",
    "cpmgraph=Graph(ids)\n",
    "cpmgraph.build(edges)"
   ]
  },
  {
   "cell_type": "code",
   "execution_count": 5,
   "metadata": {},
   "outputs": [
    {
     "name": "stdout",
     "output_type": "stream",
     "text": [
      "All edges in this graph are:\n",
      "beg -> 0 : 0\n",
      "beg -> 5 : 0\n",
      "0 -> 1 : 41\n",
      "0 -> 7 : 41\n",
      "0 -> 9 : 41\n",
      "1 -> 2 : 51\n",
      "2 -> end : 50\n",
      "3 -> end : 36\n",
      "4 -> end : 38\n",
      "5 -> end : 45\n",
      "6 -> 3 : 21\n",
      "6 -> 8 : 21\n",
      "7 -> 3 : 32\n",
      "7 -> 8 : 32\n",
      "8 -> 2 : 32\n",
      "9 -> 4 : 29\n",
      "9 -> 6 : 29\n",
      "\n"
     ]
    }
   ],
   "source": [
    "print(cpmgraph)"
   ]
  },
  {
   "cell_type": "code",
   "execution_count": 6,
   "metadata": {},
   "outputs": [],
   "source": [
    "def CPM(graph,src):\n",
    "    def toposort(graph):\n",
    "        \"\"\"拓扑排序\"\"\"\n",
    "        in_degrees = {u:0 for u in graph.V} #初始化所有顶点入度为0\n",
    "        vertex_num = len(in_degrees)\n",
    "        for u in graph.V:\n",
    "            for e in graph[u].edges:\n",
    "                in_degrees[e.tar.id] += 1\n",
    "        Q = [u for u in in_degrees if in_degrees[u] == 0]\n",
    "        Seq = []\n",
    "        #清除入度为0，即源节点\n",
    "        while Q:\n",
    "            u = Q.pop()\n",
    "            Seq.append(u)\n",
    "            for e in graph[u].edges:\n",
    "                in_degrees[e.tar.id]-=1\n",
    "                if in_degrees[e.tar.id] == 0:\n",
    "                    Q.append(e.tar.id)\n",
    "        #满役！\n",
    "        if len(Seq) == vertex_num:\n",
    "            return Seq\n",
    "    def relax(g,v):\n",
    "        \"\"\"顶点松弛\"\"\"\n",
    "        for e in g[v].edges:\n",
    "            w=e.tar.id\n",
    "            if(distTo[w]<distTo[v]+e.weight):\n",
    "                distTo[w]=distTo[v]+e.weight\n",
    "                edgeTo[w]=e\n",
    "    edgeTo=dict()\n",
    "    distTo={v:-10000 for v in graph.V}\n",
    "    distTo[src]=0\n",
    "    top=toposort(graph)\n",
    "    for node in top:\n",
    "        relax(graph,node)\n",
    "    print(\"Start Time:\")\n",
    "    for s in distTo:\n",
    "        print('\\t'+s+':\\t'+str(distTo[s]))\n",
    "    #寻找关键路径\n",
    "    maxone=max(distTo, key=distTo.get)\n",
    "    maxindexs=[key for key in distTo if distTo[key]==distTo[maxone]]\n",
    "    print(\"Finish Time:\")\n",
    "    print('\\t'+str(distTo[maxone]))\n",
    "    print(\"Critical Path:\")\n",
    "    paths=[]\n",
    "    #输出路径并存储边\n",
    "    for maxindex in maxindexs:\n",
    "        path=[]\n",
    "        edge=[]\n",
    "        while maxindex in edgeTo:\n",
    "            path.append(maxindex)\n",
    "            edge.append((edgeTo[maxindex].src.id,maxindex))\n",
    "            maxindex=edgeTo[maxindex].src.id\n",
    "        st='\\t'+src\n",
    "        for node in reversed(path):\n",
    "            st+=('->'+str(node))\n",
    "        print(st)\n",
    "        paths.append(edge)\n",
    "    return distTo[maxone],paths"
   ]
  },
  {
   "cell_type": "code",
   "execution_count": 7,
   "metadata": {},
   "outputs": [
    {
     "name": "stdout",
     "output_type": "stream",
     "text": [
      "Start Time:\n",
      "\t0:\t0\n",
      "\t1:\t41\n",
      "\t2:\t123\n",
      "\t3:\t91\n",
      "\t4:\t70\n",
      "\t5:\t0\n",
      "\t6:\t70\n",
      "\t7:\t41\n",
      "\t8:\t91\n",
      "\t9:\t41\n",
      "\tbeg:\t0\n",
      "\tend:\t173\n",
      "Finish Time:\n",
      "\t173\n",
      "Critical Path:\n",
      "\tbeg->0->9->6->8->2->end\n"
     ]
    }
   ],
   "source": [
    "time,paths=CPM(cpmgraph,'beg')"
   ]
  },
  {
   "cell_type": "markdown",
   "metadata": {},
   "source": [
    "### 1.2 PERT 计划评审技术\n",
    "在PERT中，假设各项工作的持续时间服从β分布，近似地用三时估计法估算出三个时间值，即最短、最长和最可能持续时间，再加权平均算出一个期望值作为工作的持续时间。在编制PERT网络计划时，把风险因素引入到PERT中，人们不得不考虑按PERT网络计划在指定的工期下，完成工程任务的可能性有多大，即计划的成功概率，即计划的可靠度，这就必须对工程计划进行风险估计。  \n",
    "在绘制网络图时必须将非肯定型转化为肯定型，把三时估计变为单一时间估计  \n",
    "ti为i工作的平均持续时间；  \n",
    "ai为i工作最短持续时间(亦称乐观估计时间)；  \n",
    "bi为i工作最长持续时间(亦称悲观估计时间)；  \n",
    "ci为i工作正常持续时间，可由施工定额估算。  \n",
    "其中，ai和bi两种工作的持续时间一般由统计方法进行估算。  \n",
    "三时估算法把非肯定型问题转化为肯定型问题来计算，用概率论的观点分析，其偏差仍不可避免，但趋向总是有明显的参考价值，当然，这并不排斥每个估计都尽可能做到可能精确的程度。为了进行时间的偏差分析(即分布的离散程度)，可用方差估算概率\n",
    " "
   ]
  },
  {
   "cell_type": "code",
   "execution_count": 8,
   "metadata": {},
   "outputs": [],
   "source": [
    "\"\"\"需要注意的是，这里使用的转换方法要求:\n",
    "a，b，c分别为乐观，悲观，均值\n",
    "计划评审技术中的活动期望时间(ET)公式和活动时间方差公式都是在活动时间被假设为服从参数为p=4,q=4的β分布时得到的,而该假设是基于以下两个前提,\n",
    "一是最可能时间的可能性4倍于乐观时间和悲观时间的可能性,二是最可能时间恰好是乐观时间和悲观时间的平均值\n",
    "公式调整见下方：\n",
    "https://wiki.mbalib.com/wiki/PERT网络分析法\"\"\"\n",
    "def ttos(a,b,c):\n",
    "    #这是一个p=4,q=4的β分布公式\n",
    "    return (a+4*c+b)/6\n",
    "#边：a，b，cids=[str(k) for k in range(0,10)]\n",
    "ids.append('beg')\n",
    "ids.append('end')\n",
    "pertdata={('beg','0'):(0,0,0),('beg','5'):(0,0,0),\n",
    "         ('0','1'):(36,46,41),('0','7'):(36,46,41),('0','9'):(36,46,41),\n",
    "         ('1','2'):(41,56,51),('2','end'):(45,55,50),('3','end'):(33,39,36),\n",
    "         ('4','end'):(36,40,38),('5','end'):(43,47,45),\n",
    "         ('6','3'):(18,24,21),('6','8'):(18,24,21),\n",
    "         ('7','3'):(31,33,32),('7','8'):(31,33,32),('8','2'):(31,33,32),\n",
    "         ('9','4'):(26,32,29),('9','6'):(26,32,29)}\n",
    "edges=[(*k,ttos(*pertdata[k])) for k in pertdata]\n",
    "pertgraph=Graph(ids)\n",
    "pertgraph.build(edges)"
   ]
  },
  {
   "cell_type": "code",
   "execution_count": 9,
   "metadata": {},
   "outputs": [],
   "source": [
    "import math\n",
    "def PERT(graph,src,data): \n",
    "    def toposort(graph):\n",
    "        \"\"\"拓扑排序\"\"\"\n",
    "        in_degrees = {u:0 for u in graph.V} #初始化所有顶点入度为0\n",
    "        vertex_num = len(in_degrees)\n",
    "        for u in graph.V:\n",
    "            for e in graph[u].edges:\n",
    "                in_degrees[e.tar.id] += 1\n",
    "        Q = [u for u in in_degrees if in_degrees[u] == 0]\n",
    "        Seq = []\n",
    "        while Q:\n",
    "            u = Q.pop()\n",
    "            Seq.append(u)\n",
    "            for e in graph[u].edges:\n",
    "                in_degrees[e.tar.id]-=1\n",
    "                if in_degrees[e.tar.id] == 0:\n",
    "                    Q.append(e.tar.id)\n",
    "        if len(Seq) == vertex_num:\n",
    "            return Seq\n",
    "    def relax(g,v):\n",
    "        \"\"\"顶点放松\"\"\"\n",
    "        for e in g[v].edges:\n",
    "            w=e.tar.id\n",
    "            if(distTo[w]<distTo[v]+e.weight):\n",
    "                distTo[w]=distTo[v]+e.weight\n",
    "                edgeTo[w]=e\n",
    "    edgeTo=dict()\n",
    "    distTo={v:-10000 for v in graph.V}\n",
    "    distTo[src]=0.0\n",
    "    top=toposort(graph)\n",
    "    #按照拓扑序进行放松\n",
    "    for node in top:\n",
    "        relax(graph,node)\n",
    "    print(\"Start Time:\")\n",
    "    for s in distTo:\n",
    "        print('\\t'+s+':\\t'+str(distTo[s]))\n",
    "    #寻找关键路径\n",
    "    maxone=max(distTo, key=distTo.get)\n",
    "    maxindexs=[key for key in distTo if distTo[key]==distTo[maxone]]\n",
    "    print(\"Finish Time:\")\n",
    "    print('\\t'+str(distTo[maxone]))\n",
    "    print(\"Critical Path:\")\n",
    "    paths=[]\n",
    "    for maxindex in maxindexs:\n",
    "        path=[]\n",
    "        edge=[]\n",
    "        while maxindex != src:\n",
    "            path.append(maxindex)\n",
    "            edge.append((edgeTo[maxindex].src.id,maxindex))\n",
    "            maxindex=edgeTo[maxindex].src.id\n",
    "        st='\\t'+src\n",
    "        for node in reversed(path):\n",
    "            st+=('->'+str(node))\n",
    "        print(st)\n",
    "        paths.append(edge)\n",
    "    std=0\n",
    "    for path in paths:\n",
    "        for edge in path:\n",
    "            a,b,c=data[edge]\n",
    "            std+=pow(b-a,2)/36\n",
    "        std=max(std,math.sqrt(std))\n",
    "    return distTo[maxone],paths,std"
   ]
  },
  {
   "cell_type": "code",
   "execution_count": 10,
   "metadata": {},
   "outputs": [
    {
     "name": "stdout",
     "output_type": "stream",
     "text": [
      "Start Time:\n",
      "\t0:\t0.0\n",
      "\t1:\t41.0\n",
      "\t2:\t123.0\n",
      "\t3:\t91.0\n",
      "\t4:\t70.0\n",
      "\t5:\t0.0\n",
      "\t6:\t70.0\n",
      "\t7:\t41.0\n",
      "\t8:\t91.0\n",
      "\t9:\t41.0\n",
      "\tbeg:\t0.0\n",
      "\tend:\t173.0\n",
      "Finish Time:\n",
      "\t173.0\n",
      "Critical Path:\n",
      "\tbeg->0->9->6->8->2->end\n"
     ]
    }
   ],
   "source": [
    "#关键路径总长度，关键路径所有边的列表\n",
    "#β（4,4）服从正态分布\n",
    "#工期落在预期活动持续时间1个标准差的范围之间的概率是68.26%，落在2个标准差的范围之间的概率是95.46%，在3个标准差的范围之间的概率是99.73%。\n",
    "time,paths,std=PERT(pertgraph,'beg',pertdata)"
   ]
  },
  {
   "cell_type": "code",
   "execution_count": 11,
   "metadata": {},
   "outputs": [
    {
     "name": "stdout",
     "output_type": "stream",
     "text": [
      "7.666666666666667\n"
     ]
    }
   ],
   "source": [
    "print(std)"
   ]
  },
  {
   "cell_type": "markdown",
   "metadata": {},
   "source": [
    "# 2.进阶统筹论"
   ]
  },
  {
   "cell_type": "markdown",
   "metadata": {},
   "source": [
    "## 2.1 CCPM 关键链项目管理技术\n",
    "#### 组成要素 \n",
    "CCPM方法中主要有三种形式的缓冲区，即项目缓冲(PB：Project Buffer)、输入缓冲(FB：Feeding Buffer)和资源缓冲(RB：Resource Buffer)。  \n",
    "项目缓冲(PB)插入到关键链的最后一项活动之后，用来保护项目的总工期，吸收关键链上活动(工序)的延误；  \n",
    "输入缓冲(接驳缓冲，FB)的插入位置在非关键链和关键链的汇合处，用来吸收非关键链上活动的延误，保护关键链不受非关键链延误的影响；  \n",
    "另外当某种资源投入关键链工序，而它前面的关键链工序却使用另外一种资源时，就需要插入资源缓冲(RB)。项目实施过程中，CCPM方法通过对缓冲区的管理实现对项目的控制，根据缓冲区的消耗制定不同的管理对策。  \n",
    "\n",
    "#### 基本原理\n",
    "《关键链》中任务完成概率和使用时间的关系（完成任务90%的概率用3倍的工作时间，完成80%用2倍的工作时间，完成50%用1倍的工作时间），CCPM核心为把项目中所有的任务都按照50%的概率进行项目的时间估算，而CPM则是80％，结果使项目整个估算时间总体压缩了50%，把它富余的时间压缩出来，作为一个统一的安全备用。  \n",
    "(1) 如果一项工作尽早开始，往往存在着一定的松弛量、时间浮动和安全裕量，那么这个工作往往推迟到它最后所允许的那一天为止。这一期间整个工作就没有充分发挥它的效率，造成了人力、物力的浪费。如果按照最迟的时间开始做安排，没有浮动和安全裕量，无形当中对从事这个项目的工作人员施加了压力，他没有任何选择余地，只有尽可能努力地按时完成既定任务。  \n",
    "(2) 在进行项目估算的时候，需要设法把个人估算当中的一些隐藏的裕量剔除。经验表明，人们在进行估算的时候，往往是按照能够100%所需要的时间来进行时间估算。在这种情况下，如果按照50%的可能性，只有一半的可能性能够完成任务，有50%的可能性又要延期，这样就大大缩短原来对工作的时间估算。  \n",
    "\n",
    "#### 方法\n",
    "缓冲区的确立主要使用剪切粘贴法和根方差法  \n",
    "##### 剪切粘贴\n",
    "链路上工序的安全时间Δti(常为工序工期估计的一半)的一半作为缓冲,即四分之一总时长。其中关键链剪去的安全时间作为项目缓冲，非关键链作为输入缓冲  \n",
    "##### 根方差\n",
    "假定链路上工序工期相互独立，认为工序的安全缓冲Δti代表了工序工期的不确定性，提出用Δti/2作为工序工期的标准差，并以2倍的链路标准差作为链路的缓冲估计，即所有Δti平方和之根作为缓冲。其中关键链剪去的安全时间作为项目缓冲，非关键链作为输入缓冲  \n",
    "见论文https://wenku.baidu.com/view/d202b82a3169a4517723a35a.html?rec_flag=default&sxts=1547455366187\n"
   ]
  },
  {
   "cell_type": "code",
   "execution_count": 12,
   "metadata": {},
   "outputs": [],
   "source": [
    "ids=[str(k) for k in range(0,10)]\n",
    "ids.append('beg')\n",
    "ids.append('end')\n",
    "ccpmdata={('beg','0'):0,('beg','5'):0,\n",
    "         ('0','1'):41,('0','7'):41,('0','9'):41,\n",
    "         ('1','2'):51,('2','end'):50,('3','end'):36,\n",
    "         ('4','end'):38,('5','end'):45,\n",
    "         ('6','3'):21,('6','8'):21,\n",
    "         ('7','3'):32,('7','8'):32,('8','2'):32,\n",
    "         ('9','4'):29,('9','6'):29}\n",
    "edges=[(*k,ccpmdata[k]/2) for k in ccpmdata]\n",
    "ccpmgraph=Graph(ids)\n",
    "ccpmgraph.build(edges)"
   ]
  },
  {
   "cell_type": "markdown",
   "metadata": {},
   "source": [
    "由于复杂度考虑，非关键链的缓冲存在大量支链的可能性，因此这里只关注关键链即决定总时长的链。\n",
    "如果需要考虑输入缓冲，请按照上述方法先将关键链去除后，再计算非关键链的缓冲区。"
   ]
  },
  {
   "cell_type": "code",
   "execution_count": 13,
   "metadata": {},
   "outputs": [],
   "source": [
    "#剪切粘贴法\n",
    "def  CP(graph,src,data):\n",
    "    \"\"\"copy and paste\"\"\"\n",
    "    time,paths=CPM(graph,src)\n",
    "    probuf=0\n",
    "    #计算缓冲区\n",
    "    for path in paths:\n",
    "        for edge in path:\n",
    "            probuf+=data[edge]/4\n",
    "    return time+probuf,probuf,paths"
   ]
  },
  {
   "cell_type": "code",
   "execution_count": 14,
   "metadata": {},
   "outputs": [
    {
     "name": "stdout",
     "output_type": "stream",
     "text": [
      "Start Time:\n",
      "\t0:\t0.0\n",
      "\t1:\t20.5\n",
      "\t2:\t61.5\n",
      "\t3:\t45.5\n",
      "\t4:\t35.0\n",
      "\t5:\t0.0\n",
      "\t6:\t35.0\n",
      "\t7:\t20.5\n",
      "\t8:\t45.5\n",
      "\t9:\t20.5\n",
      "\tbeg:\t0\n",
      "\tend:\t86.5\n",
      "Finish Time:\n",
      "\t86.5\n",
      "Critical Path:\n",
      "\tbeg->0->9->6->8->2->end\n",
      "129.75\n",
      "43.25\n"
     ]
    }
   ],
   "source": [
    "time,probuf,paths=CP(ccpmgraph,'beg',ccpmdata)\n",
    "print(time)\n",
    "print(probuf)"
   ]
  },
  {
   "cell_type": "code",
   "execution_count": 15,
   "metadata": {},
   "outputs": [],
   "source": [
    "import math\n",
    "#根方差法\n",
    "def  RSE(g,s,d):\n",
    "    \"\"\"root square error\"\"\"\n",
    "    time,paths=CPM(g,s)\n",
    "    probuf=0\n",
    "    #计算根方差\n",
    "    for path in paths:\n",
    "        for edge in path:\n",
    "            probuf+=pow(d[edge]/4,2)\n",
    "    probuf=math.sqrt(probuf)\n",
    "    return time+probuf,probuf,paths"
   ]
  },
  {
   "cell_type": "code",
   "execution_count": 16,
   "metadata": {},
   "outputs": [
    {
     "name": "stdout",
     "output_type": "stream",
     "text": [
      "Start Time:\n",
      "\t0:\t0.0\n",
      "\t1:\t20.5\n",
      "\t2:\t61.5\n",
      "\t3:\t45.5\n",
      "\t4:\t35.0\n",
      "\t5:\t0.0\n",
      "\t6:\t35.0\n",
      "\t7:\t20.5\n",
      "\t8:\t45.5\n",
      "\t9:\t20.5\n",
      "\tbeg:\t0\n",
      "\tend:\t86.5\n",
      "Finish Time:\n",
      "\t86.5\n",
      "Critical Path:\n",
      "\tbeg->0->9->6->8->2->end\n",
      "106.63547863846301\n",
      "20.135478638463006\n"
     ]
    }
   ],
   "source": [
    "time,probuf,paths=RSE(ccpmgraph,'beg',ccpmdata)\n",
    "print(time)\n",
    "print(probuf)"
   ]
  },
  {
   "cell_type": "markdown",
   "metadata": {},
   "source": [
    "## 2.2 GERT 图形评审技术（随机网络）\n",
    "#### 性质\n",
    "与普通网络图比较，随机网络具有以下几个特点：\n",
    "\n",
    "(1)随机网络的箭线和节点不一定都能实现，实现的可能性取决于节点的类型和箭线的概率系数；  \n",
    "\n",
    "(2)随机网络中各项活动的时间可以是常数，也可以是服从某种概率分布的密度函数，更具有不确定性；\n",
    "\n",
    "(3)随机网络中可以有循环回路，表示节点或活动可以重复出现；\n",
    "\n",
    "(4)随机网络中的两个中间节点之间可以有一条以上箭线；\n",
    "\n",
    "(5)随机网络中可以有多个目标，每个目标反映一个具体的结果，即可以有多个起点或终点。\n",
    "#### 实现方法\n",
    " 解析法一般利用信号流图的拓扑特征(梅森公式)和矩母函数进行求解  \n",
    " 数值法一般使用计算机仿真通过蒙特卡洛模拟进行求解\n",
    " 由于解析法的难度过高，建议使用仿真进行模拟，推荐各种管理学风险管理软件，如Arena，Cristal Ball等\n",
    " 具体流程可以见文件附录的几个参考文献"
   ]
  },
  {
   "cell_type": "markdown",
   "metadata": {},
   "source": [
    "## 2.3 相对最后期限限制下的并行任务调度\n",
    "一般意义中的ddl都是相对于第一个任务开始时，但某些时刻我们需要在一个任务执行后指定时间点间进行另一个任务，如保质期。这样的限制使得普通的CPM难以招架。  \n",
    "通过添加负权重边，我们可以将这个问题转化为更为复杂的一般加权有向图中的最长路径。  \n",
    "即v在w后t时间单位之内进行，则赋予v->w长为-t的边  \n",
    "需要注意的是，这个期限未必是能够满足的，在图论中，即包含这个边的环不能是负权重。  "
   ]
  },
  {
   "cell_type": "code",
   "execution_count": 17,
   "metadata": {},
   "outputs": [],
   "source": [
    "def ddl(graph,src):\n",
    "    \"\"\"Bellman-Ford算法\n",
    "    此算法也可高效率运作于普通CPM\"\"\"\n",
    "    onQ={v:False for v in graph.V}\n",
    "    edgeTo=dict()\n",
    "    queue=[]\n",
    "    cost=0\n",
    "    distTo={v:-100000 for v in graph.V}\n",
    "    distTo[src]=0.0\n",
    "    onQ[src]=True\n",
    "    queue.append(src)\n",
    "    \n",
    "        \n",
    "    def relax(g,v):\n",
    "        nonlocal cost\n",
    "        \"\"\"顶点放松\"\"\"\n",
    "        for e in g[v].edges:\n",
    "            w=e.tar.id\n",
    "            if(distTo[w]<distTo[v]+e.weight):\n",
    "                distTo[w]=distTo[v]+e.weight\n",
    "                edgeTo[w]=e\n",
    "                if(not onQ[w]):\n",
    "                    queue.append(w)\n",
    "                    onQ[w]=True\n",
    "            #判断是否存在负权重环，避免死循环\n",
    "            if cost == 10*len(graph.V):\n",
    "                raise Exception(\"Negative cycle!\")\n",
    "            cost+=1\n",
    "    #对所有顶点进行遍历，逐一放松 \n",
    "    while(queue):\n",
    "        v=queue[0]\n",
    "        queue.pop(0)\n",
    "        onQ[v]=False\n",
    "        relax(graph,v)\n",
    "    print(\"Start Time:\")\n",
    "    for s in distTo:\n",
    "            print('\\t'+s+':\\t'+str(distTo[s]))\n",
    "    #寻找关键路径\n",
    "    maxone=max(distTo, key=distTo.get)\n",
    "    maxindexs=[key for key in distTo if distTo[key]==distTo[maxone]]\n",
    "    print(\"Finish Time:\")\n",
    "    print('\\t'+str(distTo[maxone]))\n",
    "    print(\"Critical Path:\")\n",
    "    paths=[]\n",
    "    #回溯并保存\n",
    "    for maxindex in maxindexs:\n",
    "        path=[]\n",
    "        edge=[]\n",
    "        while maxindex != src:\n",
    "            path.append(maxindex)\n",
    "            edge.append((edgeTo[maxindex].src.id,maxindex))\n",
    "            maxindex=edgeTo[maxindex].src.id\n",
    "        st='\\t'+src\n",
    "        for node in reversed(path):\n",
    "            st+=('->'+str(node))\n",
    "        print(st)\n",
    "        paths.append(edge)\n",
    "    return distTo[maxone],paths"
   ]
  },
  {
   "cell_type": "code",
   "execution_count": 18,
   "metadata": {},
   "outputs": [
    {
     "name": "stdout",
     "output_type": "stream",
     "text": [
      "Start Time:\n",
      "\t0:\t0.0\n",
      "\t1:\t41.0\n",
      "\t2:\t123.0\n",
      "\t3:\t91.0\n",
      "\t4:\t111.0\n",
      "\t5:\t0.0\n",
      "\t6:\t70.0\n",
      "\t7:\t41.0\n",
      "\t8:\t91.0\n",
      "\t9:\t41.0\n",
      "\tbeg:\t0.0\n",
      "\tend:\t173.0\n",
      "Finish Time:\n",
      "\t173.0\n",
      "Critical Path:\n",
      "\tbeg->0->9->6->8->2->end\n",
      "173.0\n"
     ]
    }
   ],
   "source": [
    "ids=[str(k) for k in range(0,10)]\n",
    "ids.append('beg')\n",
    "ids.append('end')\n",
    "ddldata={('beg','0'):0,('beg','5'):0,\n",
    "         ('0','1'):41,('0','7'):41,('0','9'):41,\n",
    "         ('1','2'):51,('2','end'):50,('3','end'):36,\n",
    "         ('4','end'):38,('5','end'):45,\n",
    "         #2号任务必须在4号启动后12个时间单位内开始\n",
    "         ('2','4'):-12,\n",
    "         ('6','3'):21,('6','8'):21,\n",
    "         ('7','3'):32,('7','8'):32,('8','2'):32,\n",
    "         ('9','4'):29,('9','6'):29}\n",
    "edges=[(*k,ddldata[k]) for k in ddldata]\n",
    "ddlgraph=Graph(ids)\n",
    "ddlgraph.build(edges)\n",
    "time,paths=ddl(ddlgraph,'beg')\n",
    "print(time)"
   ]
  },
  {
   "cell_type": "code",
   "execution_count": 19,
   "metadata": {},
   "outputs": [
    {
     "name": "stdout",
     "output_type": "stream",
     "text": [
      "Start Time:\n",
      "\t0:\t0.0\n",
      "\t1:\t41.0\n",
      "\t2:\t123.0\n",
      "\t3:\t91.0\n",
      "\t4:\t111.0\n",
      "\t5:\t0.0\n",
      "\t6:\t70.0\n",
      "\t7:\t53.0\n",
      "\t8:\t91.0\n",
      "\t9:\t41.0\n",
      "\tbeg:\t0.0\n",
      "\tend:\t173.0\n",
      "Finish Time:\n",
      "\t173.0\n",
      "Critical Path:\n",
      "\tbeg->0->9->6->8->2->end\n",
      "173.0\n"
     ]
    }
   ],
   "source": [
    "ids=[str(k) for k in range(0,10)]\n",
    "ids.append('beg')\n",
    "ids.append('end')\n",
    "ddldata={('beg','0'):0,('beg','5'):0,\n",
    "         ('0','1'):41,('0','7'):41,('0','9'):41,\n",
    "         ('1','2'):51,('2','end'):50,('3','end'):36,\n",
    "         ('4','end'):38,('5','end'):45,\n",
    "         #2号任务必须在4号启动后12个时间单位内开始\n",
    "         ('2','4'):-12,\n",
    "         #2号任务必须在7号启动后70个时间单位内开始\n",
    "         ('2','7'):-70,\n",
    "         ('6','3'):21,('6','8'):21,\n",
    "         ('7','3'):32,('7','8'):32,('8','2'):32,\n",
    "         ('9','4'):29,('9','6'):29}\n",
    "edges=[(*k,ddldata[k]) for k in ddldata]\n",
    "ddlgraph=Graph(ids)\n",
    "ddlgraph.build(edges)\n",
    "time,paths=ddl(ddlgraph,'beg')\n",
    "print(time)"
   ]
  },
  {
   "cell_type": "code",
   "execution_count": 20,
   "metadata": {},
   "outputs": [
    {
     "ename": "Exception",
     "evalue": "Negative cycle!",
     "output_type": "error",
     "traceback": [
      "\u001b[1;31m---------------------------------------------------------------------------\u001b[0m",
      "\u001b[1;31mException\u001b[0m                                 Traceback (most recent call last)",
      "\u001b[1;32m<ipython-input-20-fd2428b57ae1>\u001b[0m in \u001b[0;36m<module>\u001b[1;34m()\u001b[0m\n\u001b[0;32m     19\u001b[0m \u001b[0mddlgraph\u001b[0m\u001b[1;33m=\u001b[0m\u001b[0mGraph\u001b[0m\u001b[1;33m(\u001b[0m\u001b[0mids\u001b[0m\u001b[1;33m)\u001b[0m\u001b[1;33m\u001b[0m\u001b[0m\n\u001b[0;32m     20\u001b[0m \u001b[0mddlgraph\u001b[0m\u001b[1;33m.\u001b[0m\u001b[0mbuild\u001b[0m\u001b[1;33m(\u001b[0m\u001b[0medges\u001b[0m\u001b[1;33m)\u001b[0m\u001b[1;33m\u001b[0m\u001b[0m\n\u001b[1;32m---> 21\u001b[1;33m \u001b[0mtime\u001b[0m\u001b[1;33m,\u001b[0m\u001b[0mpaths\u001b[0m\u001b[1;33m=\u001b[0m\u001b[0mddl\u001b[0m\u001b[1;33m(\u001b[0m\u001b[0mddlgraph\u001b[0m\u001b[1;33m,\u001b[0m\u001b[1;34m'beg'\u001b[0m\u001b[1;33m)\u001b[0m\u001b[1;33m\u001b[0m\u001b[0m\n\u001b[0m\u001b[0;32m     22\u001b[0m \u001b[0mprint\u001b[0m\u001b[1;33m(\u001b[0m\u001b[0mtime\u001b[0m\u001b[1;33m)\u001b[0m\u001b[1;33m\u001b[0m\u001b[0m\n",
      "\u001b[1;32m<ipython-input-17-79e51cb0a7a9>\u001b[0m in \u001b[0;36mddl\u001b[1;34m(graph, src)\u001b[0m\n\u001b[0;32m     32\u001b[0m         \u001b[0mqueue\u001b[0m\u001b[1;33m.\u001b[0m\u001b[0mpop\u001b[0m\u001b[1;33m(\u001b[0m\u001b[1;36m0\u001b[0m\u001b[1;33m)\u001b[0m\u001b[1;33m\u001b[0m\u001b[0m\n\u001b[0;32m     33\u001b[0m         \u001b[0monQ\u001b[0m\u001b[1;33m[\u001b[0m\u001b[0mv\u001b[0m\u001b[1;33m]\u001b[0m\u001b[1;33m=\u001b[0m\u001b[1;32mFalse\u001b[0m\u001b[1;33m\u001b[0m\u001b[0m\n\u001b[1;32m---> 34\u001b[1;33m         \u001b[0mrelax\u001b[0m\u001b[1;33m(\u001b[0m\u001b[0mgraph\u001b[0m\u001b[1;33m,\u001b[0m\u001b[0mv\u001b[0m\u001b[1;33m)\u001b[0m\u001b[1;33m\u001b[0m\u001b[0m\n\u001b[0m\u001b[0;32m     35\u001b[0m     \u001b[0mprint\u001b[0m\u001b[1;33m(\u001b[0m\u001b[1;34m\"Start Time:\"\u001b[0m\u001b[1;33m)\u001b[0m\u001b[1;33m\u001b[0m\u001b[0m\n\u001b[0;32m     36\u001b[0m     \u001b[1;32mfor\u001b[0m \u001b[0ms\u001b[0m \u001b[1;32min\u001b[0m \u001b[0mdistTo\u001b[0m\u001b[1;33m:\u001b[0m\u001b[1;33m\u001b[0m\u001b[0m\n",
      "\u001b[1;32m<ipython-input-17-79e51cb0a7a9>\u001b[0m in \u001b[0;36mrelax\u001b[1;34m(g, v)\u001b[0m\n\u001b[0;32m     25\u001b[0m             \u001b[1;31m#判断是否存在负权重环，避免死循环\u001b[0m\u001b[1;33m\u001b[0m\u001b[1;33m\u001b[0m\u001b[0m\n\u001b[0;32m     26\u001b[0m             \u001b[1;32mif\u001b[0m \u001b[0mcost\u001b[0m \u001b[1;33m==\u001b[0m \u001b[1;36m10\u001b[0m\u001b[1;33m*\u001b[0m\u001b[0mlen\u001b[0m\u001b[1;33m(\u001b[0m\u001b[0mgraph\u001b[0m\u001b[1;33m.\u001b[0m\u001b[0mV\u001b[0m\u001b[1;33m)\u001b[0m\u001b[1;33m:\u001b[0m\u001b[1;33m\u001b[0m\u001b[0m\n\u001b[1;32m---> 27\u001b[1;33m                 \u001b[1;32mraise\u001b[0m \u001b[0mException\u001b[0m\u001b[1;33m(\u001b[0m\u001b[1;34m\"Negative cycle!\"\u001b[0m\u001b[1;33m)\u001b[0m\u001b[1;33m\u001b[0m\u001b[0m\n\u001b[0m\u001b[0;32m     28\u001b[0m             \u001b[0mcost\u001b[0m\u001b[1;33m+=\u001b[0m\u001b[1;36m1\u001b[0m\u001b[1;33m\u001b[0m\u001b[0m\n\u001b[0;32m     29\u001b[0m     \u001b[1;31m#对所有顶点进行遍历，逐一放松\u001b[0m\u001b[1;33m\u001b[0m\u001b[1;33m\u001b[0m\u001b[0m\n",
      "\u001b[1;31mException\u001b[0m: Negative cycle!"
     ]
    }
   ],
   "source": [
    "ids=[str(k) for k in range(0,10)]\n",
    "ids.append('beg')\n",
    "ids.append('end')\n",
    "ddldata={('beg','0'):0,('beg','5'):0,\n",
    "         ('0','1'):41,('0','7'):41,('0','9'):41,\n",
    "         ('1','2'):51,('2','end'):50,('3','end'):36,\n",
    "         ('4','end'):38,('5','end'):45,\n",
    "         #2号任务必须在4号启动后12个时间单位内开始\n",
    "         ('2','4'):-12,\n",
    "         #2号任务必须在7号启动后70个时间单位内开始\n",
    "         ('2','7'):-70,\n",
    "         #4号任务必须在0号启动后80个时间单位内开始\n",
    "         ('4','0'):-80,\n",
    "         #Oops!出现矛盾了，抛出异常\n",
    "         ('6','3'):21,('6','8'):21,\n",
    "         ('7','3'):32,('7','8'):32,('8','2'):32,\n",
    "         ('9','4'):29,('9','6'):29}\n",
    "edges=[(*k,ddldata[k]) for k in ddldata]\n",
    "ddlgraph=Graph(ids)\n",
    "ddlgraph.build(edges)\n",
    "time,paths=ddl(ddlgraph,'beg')\n",
    "print(time)"
   ]
  }
 ],
 "metadata": {
  "kernelspec": {
   "display_name": "Python 3",
   "language": "python",
   "name": "python3"
  },
  "language_info": {
   "codemirror_mode": {
    "name": "ipython",
    "version": 3
   },
   "file_extension": ".py",
   "mimetype": "text/x-python",
   "name": "python",
   "nbconvert_exporter": "python",
   "pygments_lexer": "ipython3",
   "version": "3.6.5"
  }
 },
 "nbformat": 4,
 "nbformat_minor": 2
}
