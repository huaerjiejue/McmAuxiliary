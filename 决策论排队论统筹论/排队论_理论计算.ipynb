{
 "cells": [
  {
   "cell_type": "code",
   "execution_count": 90,
   "metadata": {},
   "outputs": [],
   "source": [
    "from __future__ import division\n",
    "import math\n",
    "def queuing_theory(lambdam,mu,s,k):\n",
    "    \"\"\"\n",
    "#################################################\n",
    "#排队论\n",
    "#MCM2018 Python3.6 代码模板 SJTU\n",
    "#By:何奇\n",
    "包括4种不同系统的计算 分别是\n",
    "m/m/1/∞, m/m/1/k, m/m/s/∞, m/m/s/k\n",
    "\n",
    "输入：\n",
    "lambdam:指顾客相继到达时间服从参数为λ的负指数分布\n",
    "mu:指每个服务台的服务时间相互独立，服从参数为mu的负指数分布\n",
    "s:服务台个数\n",
    "k:系统容量上限,输入'inf'表示上限无穷大\n",
    "\n",
    "输出：\n",
    "L:平均队长，系统中的总人数期望\n",
    "Lq:平均等待队长，系统中正在等待的总人数期望\n",
    "W：平均逗留时间，顾客逗留的时间的期望\n",
    "Wq：平均等待时间，顾客需要等待的时间的期望\n",
    "\n",
    "注意：\n",
    "输入时，保证s*mu>lambdam,即顾客平均到达率小于服务率，系统能够到达统计平衡\n",
    "推导过程以及更多细节可参考http://www.doc88.com/p-887645987930.html\n",
    "#################################################\n",
    "    \"\"\"\n",
    "    if s*mu<=lambdam:\n",
    "        return -1,-1,-1,-1\n",
    "    ro=lambdam/mu  #计算顾客与服务台的来往强度\n",
    "    ros=lambdam/mu/s\n",
    "    sum1=sum2=0\n",
    "    if s==1:\n",
    "        if k=='inf':  #单服务台，系统容量为无穷大\n",
    "            L=lambdam/(mu-lambdam) #平均队长\n",
    "            Lq=ro**2/(1-ro) #平均等待队长\n",
    "            W=1/(mu-lambdam) #平均逗留时间\n",
    "            Wq=lambdam/(mu*(mu-lambdam))  #平均等待时间\n",
    "        else:   #单服务台，系统容量为k\n",
    "            p0=(1-ro)/(1-ro**(k+1))\n",
    "            pk=ro**k*p0\n",
    "            L=ro/(1-ro)-(k+1)*ro**(k+1)/(1-ro**(k+1))\n",
    "            Lq=ro/(1-ro)-ro*(1+k*ro**k)/(1-ro**(k+1))\n",
    "            W=L/(lambdam*(1-pk))\n",
    "            Wq=Lq/(lambdam*(1-pk))\n",
    "    else:\n",
    "        if k=='inf':  #多服务台，系统容量为无穷大\n",
    "            for i in range(s):\n",
    "                sum1+=1/math.factorial(i)*ro**i\n",
    "            p0=sum1+(1/math.factorial(s))*ro**s*(s*mu/(s*mu-lambdam))\n",
    "            p0=1/p0\n",
    "            Lq=ro**s*lambdam*mu*p0/(math.factorial(s-1)*(s*mu-lambdam)**2)\n",
    "            Wq=Lq/lambdam\n",
    "            L=Lq+ro\n",
    "            W=L/lambdam\n",
    "        else:  #多服务台，系统容量为k\n",
    "            sum1=0;sum2=0;\n",
    "            for i in range(s):\n",
    "                sum1+=ro**i/math.factorial(i)\n",
    "            for i in range(s):\n",
    "                sum2+=(i-s)*ro**i/math.factorial(i)\n",
    "            p0=sum1+ro**s*(1-ros**(k-s+1))/(math.factorial(s)*(1-ros))\n",
    "            p0=1/p0\n",
    "            pk=ro**k/(math.factorial(s)*s**(k-s))*p0\n",
    "            lambdam_e=lambdam*(1-pk)  #顾客到达率\n",
    "            Lq=p0*ro**s*ros/(math.factorial(s)*(1-ros)**2)*(1-ros**(k-s+1)-(1-ros)*(k-s+1)*ros**(k-s))\n",
    "            L=Lq+s+p0*sum2\n",
    "            W=L/lambdam_e\n",
    "            Wq=W-1/mu\n",
    "    return L,Lq,W,Wq\n",
    "            "
   ]
  },
  {
   "cell_type": "code",
   "execution_count": 98,
   "metadata": {},
   "outputs": [],
   "source": [
    "# -*- coding: utf-8 -*-\n",
    "def main():\n",
    "    \"\"\"\n",
    "#################################################\n",
    "#排队论\n",
    "#MCM2018 Python3.6 代码模板 SJTU\n",
    "#By:何奇川\n",
    "#Edited By: 朱文杰 移植至Py3.6\n",
    "此程序为运行实例，可自行更改参数\n",
    "#################################################\n",
    "    \"\"\"\n",
    "    [L,Lq,W,Wq]=queuing_theory(10,2,4,'inf') #计算该系统性能参数\n",
    "    print('平均队长L：{:.4f}'.format(L))\n",
    "    print('平均等待队长Lq：{:.4f}'.format(Lq))\n",
    "    print('平均逗留时间W：{:.4f}'.format(W))\n",
    "    print('平均等待时间Wq:{:.4f}'.format(Wq))"
   ]
  },
  {
   "cell_type": "code",
   "execution_count": 99,
   "metadata": {
    "scrolled": true
   },
   "outputs": [
    {
     "name": "stdout",
     "output_type": "stream",
     "text": [
      "平均队长L：-1.0000\n",
      "平均等待队长Lq：-1.0000\n",
      "平均逗留时间W：-1.0000\n",
      "平均等待时间Wq:-1.0000\n"
     ]
    }
   ],
   "source": [
    "main()"
   ]
  },
  {
   "cell_type": "code",
   "execution_count": null,
   "metadata": {},
   "outputs": [],
   "source": []
  }
 ],
 "metadata": {
  "kernelspec": {
   "display_name": "Python 3",
   "language": "python",
   "name": "python3"
  },
  "language_info": {
   "codemirror_mode": {
    "name": "ipython",
    "version": 3
   },
   "file_extension": ".py",
   "mimetype": "text/x-python",
   "name": "python",
   "nbconvert_exporter": "python",
   "pygments_lexer": "ipython3",
   "version": "3.6.5"
  }
 },
 "nbformat": 4,
 "nbformat_minor": 2
}
